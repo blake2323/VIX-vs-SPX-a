{
 "cells": [
  {
   "cell_type": "code",
   "execution_count": 14,
   "metadata": {},
   "outputs": [],
   "source": [
    "# Scrape S&P 500 tickers from Slick Charts\n",
    "from bs4 import BeautifulSoup\n",
    "import pandas as pd\n",
    "import requests\n",
    "import re\n",
    "page_link = 'https://www.slickcharts.com/sp500'\n",
    "page_response = requests.get(page_link, timeout=1000)\n",
    "page_content = BeautifulSoup(page_response.content, 'lxml')"
   ]
  },
  {
   "cell_type": "code",
   "execution_count": 15,
   "metadata": {},
   "outputs": [],
   "source": [
    "# From web scraped Wikipedia content on the S&P 500, grab the ticker and industry for each firm\n",
    "companies = []\n",
    "symbols = []\n",
    "weights = []\n",
    "prices = []\n",
    "percent_changes = []\n",
    "for i, val in enumerate(page_content.find_all('tr')):\n",
    "    if i > 0:\n",
    "        try:\n",
    "            # Grab the stuff!\n",
    "            companies.append(val.find_all('td')[1].text)\n",
    "            symbols.append(val.find_all('td')[2].text)\n",
    "            weights.append(val.find_all('td')[3].text)\n",
    "            prices.append(val.find_all('td')[4].text)\n",
    "            percent_changes.append(val.find_all('td')[6].text)\n",
    "#             weights.append(val.find_all('td')[3].text.replace('\\n', ''))\n",
    "        except:\n",
    "            pass"
   ]
  },
  {
   "cell_type": "code",
   "execution_count": 16,
   "metadata": {},
   "outputs": [],
   "source": [
    "stock_df = pd.DataFrame()\n",
    "stock_df['company'] = companies\n",
    "stock_df['symbol'] = symbols\n",
    "stock_df['weight'] = weights\n",
    "stock_df['price'] = prices\n",
    "stock_df['%_change'] = percent_changes"
   ]
  },
  {
   "cell_type": "code",
   "execution_count": 18,
   "metadata": {},
   "outputs": [
    {
     "data": {
      "text/html": [
       "<div>\n",
       "<style scoped>\n",
       "    .dataframe tbody tr th:only-of-type {\n",
       "        vertical-align: middle;\n",
       "    }\n",
       "\n",
       "    .dataframe tbody tr th {\n",
       "        vertical-align: top;\n",
       "    }\n",
       "\n",
       "    .dataframe thead th {\n",
       "        text-align: right;\n",
       "    }\n",
       "</style>\n",
       "<table border=\"1\" class=\"dataframe\">\n",
       "  <thead>\n",
       "    <tr style=\"text-align: right;\">\n",
       "      <th></th>\n",
       "      <th>company</th>\n",
       "      <th>symbol</th>\n",
       "      <th>weight</th>\n",
       "      <th>price</th>\n",
       "      <th>%_change</th>\n",
       "    </tr>\n",
       "  </thead>\n",
       "  <tbody>\n",
       "    <tr>\n",
       "      <th>0</th>\n",
       "      <td>Microsoft Corporation</td>\n",
       "      <td>MSFT</td>\n",
       "      <td>4.312051</td>\n",
       "      <td>137.79</td>\n",
       "      <td>(-1.25%)</td>\n",
       "    </tr>\n",
       "    <tr>\n",
       "      <th>1</th>\n",
       "      <td>Apple Inc.</td>\n",
       "      <td>AAPL</td>\n",
       "      <td>3.780711</td>\n",
       "      <td>218.76</td>\n",
       "      <td>(-0.52%)</td>\n",
       "    </tr>\n",
       "    <tr>\n",
       "      <th>2</th>\n",
       "      <td>Amazon.com Inc.</td>\n",
       "      <td>AMZN</td>\n",
       "      <td>2.926090</td>\n",
       "      <td>1,725.30</td>\n",
       "      <td>(-0.84%)</td>\n",
       "    </tr>\n",
       "    <tr>\n",
       "      <th>3</th>\n",
       "      <td>Facebook Inc. Class A</td>\n",
       "      <td>FB</td>\n",
       "      <td>1.753724</td>\n",
       "      <td>177.00</td>\n",
       "      <td>(-1.73%)</td>\n",
       "    </tr>\n",
       "    <tr>\n",
       "      <th>4</th>\n",
       "      <td>Berkshire Hathaway Inc. Class B</td>\n",
       "      <td>BRK.B</td>\n",
       "      <td>1.642045</td>\n",
       "      <td>207.50</td>\n",
       "      <td>(0.29%)</td>\n",
       "    </tr>\n",
       "  </tbody>\n",
       "</table>\n",
       "</div>"
      ],
      "text/plain": [
       "                           company symbol    weight        price  %_change\n",
       "0            Microsoft Corporation   MSFT  4.312051       137.79  (-1.25%)\n",
       "1                       Apple Inc.   AAPL  3.780711       218.76  (-0.52%)\n",
       "2                  Amazon.com Inc.   AMZN  2.926090     1,725.30  (-0.84%)\n",
       "3            Facebook Inc. Class A     FB  1.753724       177.00  (-1.73%)\n",
       "4  Berkshire Hathaway Inc. Class B  BRK.B  1.642045       207.50   (0.29%)"
      ]
     },
     "execution_count": 18,
     "metadata": {},
     "output_type": "execute_result"
    }
   ],
   "source": [
    "stock_df.head()"
   ]
  },
  {
   "cell_type": "code",
   "execution_count": 19,
   "metadata": {},
   "outputs": [],
   "source": [
    "stock_df.to_csv('sp500.csv', index=False)"
   ]
  },
  {
   "cell_type": "code",
   "execution_count": null,
   "metadata": {},
   "outputs": [],
   "source": []
  }
 ],
 "metadata": {
  "kernelspec": {
   "display_name": "Python [conda env:PythonData] *",
   "language": "python",
   "name": "conda-env-PythonData-py"
  },
  "language_info": {
   "codemirror_mode": {
    "name": "ipython",
    "version": 3
   },
   "file_extension": ".py",
   "mimetype": "text/x-python",
   "name": "python",
   "nbconvert_exporter": "python",
   "pygments_lexer": "ipython3",
   "version": "3.7.1"
  }
 },
 "nbformat": 4,
 "nbformat_minor": 2
}
